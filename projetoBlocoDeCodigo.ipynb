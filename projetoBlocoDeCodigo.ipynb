{
 "cells": [
  {
   "cell_type": "markdown",
   "metadata": {},
   "source": [
    "### Empresa Bloco de Código\n",
    "\n",
    "- *A empresa de marketing **Bloco de Código** nos contratou para entender suas bases de dados e exibir informações relevantes a fim de auxiliar suas tomadas de decisão.*\n",
    "\n",
    "Neste projeto, utilizaremos o **Excel** e o **powerBI** para tratar e visualizar os dados. As dashboards serão montadas com o objetivo de auxiliar e monitorar uma campanha de marketing realizada."
   ]
  },
  {
   "cell_type": "markdown",
   "metadata": {},
   "source": [
    "*O primeiro passo será o **tratamento de dados**:*\n",
    "\n",
    "- Analisaremos a quantidade de linhas e colunas;\n",
    "- Exploraremos as abas e tipos de dados disponíveis;\n",
    "- Avaliaremos a estrutura e hierarquia da base de dados;\n",
    "- Verificaremos se os tipos dos dados de cada coluna estão coerentes."
   ]
  },
  {
   "cell_type": "markdown",
   "metadata": {},
   "source": [
    "*Após os tratamentos iniciais, partiremos para a criação de alguns parâmetros*\n",
    "\n",
    "- Para chegarmos ao **CTR (Click Through Rate)**, precisaremos inicialmente do Total de Cliques;\n",
    "- Calculamos o percentual de cliques que foram obtidos através das redes sociais;\n",
    "- Calculamos o CTR; \n",
    "- Calculamos o percentual de que nossos artigos foram pesquisados;\n",
    "- Calculamos o percentual de cliques pagos que o conteúdo recebeu;\n",
    "- Calculamos o percentual de visitas diretas;\n"
   ]
  },
  {
   "cell_type": "markdown",
   "metadata": {},
   "source": [
    "*Partiremos então para algumas análises*\n",
    "\n",
    "- "
   ]
  },
  {
   "cell_type": "markdown",
   "metadata": {},
   "source": []
  }
 ],
 "metadata": {
  "language_info": {
   "name": "python"
  }
 },
 "nbformat": 4,
 "nbformat_minor": 2
}
